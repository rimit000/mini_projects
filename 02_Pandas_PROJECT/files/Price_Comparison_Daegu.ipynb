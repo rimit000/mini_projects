{
 "cells": [
  {
   "cell_type": "code",
   "execution_count": 2,
   "metadata": {},
   "outputs": [],
   "source": [
    "import pandas as pd\n",
    "import numpy as np"
   ]
  },
  {
   "cell_type": "code",
   "execution_count": 2,
   "metadata": {},
   "outputs": [],
   "source": [
    "BG01_EXCEL='./23_Year_Apartment_Buk-gu_1month.xlsx'\n",
    "BG12_EXCEL='./23_Year_Apartment_Buk-gu_12month.xlsx'\n",
    "JG01_EXCEL='./23_Year Apartment_Jung-gu_1month.xlsx'\n",
    "JG12_EXCEL='./23_Year Apartment_Jung-gu_12month.xlsx'"
   ]
  },
  {
   "cell_type": "code",
   "execution_count": 3,
   "metadata": {},
   "outputs": [],
   "source": [
    "BUKGU2301=pd.read_excel(BG01_EXCEL)\n",
    "BUKGU2312=pd.read_excel(BG12_EXCEL)\n",
    "JUNGGU2301=pd.read_excel(JG01_EXCEL, header=None)\n",
    "JUNGGU2312=pd.read_excel(JG12_EXCEL, header=None)"
   ]
  },
  {
   "cell_type": "code",
   "execution_count": 4,
   "metadata": {},
   "outputs": [],
   "source": [
    "BUKGU2301.to_csv('BUKGU2301.csv')\n",
    "BUKGU2312.to_csv('BUKGU2312.csv')\n",
    "JUNGGU2301.to_csv('JUNGGU2301.csv')\n",
    "JUNGGU2312.to_csv('JUNGGU2312.csv')"
   ]
  },
  {
   "cell_type": "code",
   "execution_count": 5,
   "metadata": {},
   "outputs": [],
   "source": [
    "# 헤더 없는 파일에 헤더 추가\n",
    "JUNGGU2301.columns=['아파트','금액(만원)','면적','층','주소']\n",
    "JUNGGU2312.columns=['아파트','금액(만원)','면적','층','주소','non']"
   ]
  },
  {
   "cell_type": "code",
   "execution_count": 6,
   "metadata": {},
   "outputs": [
    {
     "data": {
      "text/html": [
       "<div>\n",
       "<style scoped>\n",
       "    .dataframe tbody tr th:only-of-type {\n",
       "        vertical-align: middle;\n",
       "    }\n",
       "\n",
       "    .dataframe tbody tr th {\n",
       "        vertical-align: top;\n",
       "    }\n",
       "\n",
       "    .dataframe thead th {\n",
       "        text-align: right;\n",
       "    }\n",
       "</style>\n",
       "<table border=\"1\" class=\"dataframe\">\n",
       "  <thead>\n",
       "    <tr style=\"text-align: right;\">\n",
       "      <th></th>\n",
       "      <th>아파트</th>\n",
       "      <th>금액(만원)</th>\n",
       "      <th>면적</th>\n",
       "      <th>층</th>\n",
       "      <th>주소</th>\n",
       "    </tr>\n",
       "  </thead>\n",
       "  <tbody>\n",
       "    <tr>\n",
       "      <th>0</th>\n",
       "      <td>남산롯데캐슬센트럴스카이</td>\n",
       "      <td>91000</td>\n",
       "      <td>101.52</td>\n",
       "      <td>6</td>\n",
       "      <td>남산동 3020</td>\n",
       "    </tr>\n",
       "    <tr>\n",
       "      <th>1</th>\n",
       "      <td>센트로팰리스</td>\n",
       "      <td>90000</td>\n",
       "      <td>179.46</td>\n",
       "      <td>16</td>\n",
       "      <td>대봉동 60-10</td>\n",
       "    </tr>\n",
       "    <tr>\n",
       "      <th>2</th>\n",
       "      <td>남산롯데캐슬센트럴스카이</td>\n",
       "      <td>90000</td>\n",
       "      <td>101.52</td>\n",
       "      <td>13</td>\n",
       "      <td>남산동 3020</td>\n",
       "    </tr>\n",
       "    <tr>\n",
       "      <th>3</th>\n",
       "      <td>남산롯데캐슬센트럴스카이</td>\n",
       "      <td>76000</td>\n",
       "      <td>84.94</td>\n",
       "      <td>26</td>\n",
       "      <td>남산동 3020</td>\n",
       "    </tr>\n",
       "    <tr>\n",
       "      <th>4</th>\n",
       "      <td>남산롯데캐슬센트럴스카이</td>\n",
       "      <td>75000</td>\n",
       "      <td>84.94</td>\n",
       "      <td>28</td>\n",
       "      <td>남산동 3020</td>\n",
       "    </tr>\n",
       "    <tr>\n",
       "      <th>...</th>\n",
       "      <td>...</td>\n",
       "      <td>...</td>\n",
       "      <td>...</td>\n",
       "      <td>...</td>\n",
       "      <td>...</td>\n",
       "    </tr>\n",
       "    <tr>\n",
       "      <th>65</th>\n",
       "      <td>삼덕청아람</td>\n",
       "      <td>26000</td>\n",
       "      <td>39.65</td>\n",
       "      <td>6</td>\n",
       "      <td>삼덕동3가 383</td>\n",
       "    </tr>\n",
       "    <tr>\n",
       "      <th>66</th>\n",
       "      <td>송림맨션</td>\n",
       "      <td>24500</td>\n",
       "      <td>84.96</td>\n",
       "      <td>19</td>\n",
       "      <td>남산동 2434</td>\n",
       "    </tr>\n",
       "    <tr>\n",
       "      <th>67</th>\n",
       "      <td>동서</td>\n",
       "      <td>23000</td>\n",
       "      <td>83.06</td>\n",
       "      <td>5</td>\n",
       "      <td>대신동 1450</td>\n",
       "    </tr>\n",
       "    <tr>\n",
       "      <th>68</th>\n",
       "      <td>보성황실타운</td>\n",
       "      <td>22700</td>\n",
       "      <td>59.96</td>\n",
       "      <td>11</td>\n",
       "      <td>남산동 2466-1</td>\n",
       "    </tr>\n",
       "    <tr>\n",
       "      <th>69</th>\n",
       "      <td>까치</td>\n",
       "      <td>19500</td>\n",
       "      <td>59.66</td>\n",
       "      <td>9</td>\n",
       "      <td>남산동 2482-1</td>\n",
       "    </tr>\n",
       "  </tbody>\n",
       "</table>\n",
       "<p>70 rows × 5 columns</p>\n",
       "</div>"
      ],
      "text/plain": [
       "             아파트  금액(만원)      면적   층          주소\n",
       "0   남산롯데캐슬센트럴스카이   91000  101.52   6    남산동 3020\n",
       "1         센트로팰리스   90000  179.46  16   대봉동 60-10\n",
       "2   남산롯데캐슬센트럴스카이   90000  101.52  13    남산동 3020\n",
       "3   남산롯데캐슬센트럴스카이   76000   84.94  26    남산동 3020\n",
       "4   남산롯데캐슬센트럴스카이   75000   84.94  28    남산동 3020\n",
       "..           ...     ...     ...  ..         ...\n",
       "65         삼덕청아람   26000   39.65   6   삼덕동3가 383\n",
       "66          송림맨션   24500   84.96  19    남산동 2434\n",
       "67            동서   23000   83.06   5    대신동 1450\n",
       "68        보성황실타운   22700   59.96  11  남산동 2466-1\n",
       "69            까치   19500   59.66   9  남산동 2482-1\n",
       "\n",
       "[70 rows x 5 columns]"
      ]
     },
     "execution_count": 6,
     "metadata": {},
     "output_type": "execute_result"
    }
   ],
   "source": [
    "# 불필요한 부분 삭제\n",
    "del JUNGGU2312['non']\n",
    "JUNGGU2312"
   ]
  },
  {
   "cell_type": "code",
   "execution_count": 7,
   "metadata": {},
   "outputs": [],
   "source": [
    "# 면적(전용면적)을 국민평수로 한정\n",
    "# 약 85㎡\n",
    "BUKGU2301=BUKGU2301[BUKGU2301['면적']>83]\n",
    "BUKGU2312=BUKGU2312[BUKGU2312['면적']>83]\n",
    "JUNGGU2301=JUNGGU2301[JUNGGU2301['면적']>83]\n",
    "JUNGGU2312=JUNGGU2312[JUNGGU2312['면적']>83]\n",
    "BUKGU2301=BUKGU2301[BUKGU2301['면적']<87]\n",
    "BUKGU2312=BUKGU2312[BUKGU2312['면적']<87]\n",
    "JUNGGU2301=JUNGGU2301[JUNGGU2301['면적']<87]\n",
    "JUNGGU2312=JUNGGU2312[JUNGGU2312['면적']<87]"
   ]
  },
  {
   "cell_type": "code",
   "execution_count": 8,
   "metadata": {},
   "outputs": [
    {
     "name": "stdout",
     "output_type": "stream",
     "text": [
      "      아파트  금액(만원)     면적   층       주소\n",
      "72  학정청아람   28200  84.66   7  학정동 925\n",
      "73  학정청아람   28000  84.66  22  학정동 925\n",
      "       아파트  금액(만원)     면적   층       주소\n",
      "102  학정청아람   29200  84.62  25  학정동 925\n",
      "113  학정청아람   27150  84.66  25  학정동 925\n",
      "120  학정청아람   26600  84.66  14  학정동 925\n",
      "130  학정청아람   24100  84.66   1  학정동 925\n",
      "      아파트  금액(만원)     면적   층         주소\n",
      "6   삼덕청아람   48000  84.57  34  삼덕동3가 383\n",
      "15  삼덕청아람   44300  84.57  14  삼덕동3가 383\n",
      "18  삼덕청아람   43900  84.61  24  삼덕동3가 383\n",
      "      아파트  금액(만원)     면적   층         주소\n",
      "17  삼덕청아람   51000  84.61  21  삼덕동3가 383\n"
     ]
    }
   ],
   "source": [
    "# 아파트 브랜드 : 청아람 추출\n",
    "BUKGU2301_CAR=BUKGU2301[BUKGU2301['아파트'].str.contains('청아람')]\n",
    "BUKGU2312_CAR=BUKGU2312[BUKGU2312['아파트'].str.contains('청아람')]\n",
    "JUNGGU2301_CAR=JUNGGU2301[JUNGGU2301['아파트'].str.contains('청아람')]\n",
    "JUNGGU2312_CAR=JUNGGU2312[JUNGGU2312['아파트'].str.contains('청아람')]\n",
    "\n",
    "print(f'{BUKGU2301_CAR}\\n{BUKGU2312_CAR}\\n{JUNGGU2301_CAR}\\n{JUNGGU2312_CAR}')"
   ]
  },
  {
   "cell_type": "code",
   "execution_count": 9,
   "metadata": {},
   "outputs": [
    {
     "name": "stdout",
     "output_type": "stream",
     "text": [
      "        아파트  금액(만원)     면적   층       주소\n",
      "57  칠곡이편한세상   31000  84.73  16  읍내동 491\n",
      "59  칠곡이편한세상   30000  84.73   8  읍내동 491\n",
      "60  칠곡이편한세상   30000  84.96  16  읍내동 491\n",
      "         아파트  금액(만원)     면적  층       주소\n",
      "101  칠곡이편한세상   29500  84.96  1  읍내동 491\n",
      "Empty DataFrame\n",
      "Columns: [아파트, 금액(만원), 면적, 층, 주소]\n",
      "Index: []\n",
      "        아파트  금액(만원)     면적   층         주소\n",
      "12  남산e편한세상   60000  84.86  24  남산동 150-2\n"
     ]
    }
   ],
   "source": [
    "# 아파트 브랜드 : 이편한세상 추출\n",
    "BUKGU2301_EPH=BUKGU2301[BUKGU2301['아파트'].str.contains('칠곡이편한세상')]\n",
    "BUKGU2312_EPH=BUKGU2312[BUKGU2312['아파트'].str.contains('칠곡이편한세상')]\n",
    "JUNGGU2301_EPH=JUNGGU2301[JUNGGU2301['아파트'].str.contains('남산e편한세상')]\n",
    "JUNGGU2312_EPH=JUNGGU2312[JUNGGU2312['아파트'].str.contains('남산e편한세상')]\n",
    "\n",
    "print(f'{BUKGU2301_EPH}\\n{BUKGU2312_EPH}\\n{JUNGGU2301_EPH}\\n{JUNGGU2312_EPH}')\n",
    "# 중구 23.01월 : 남산이(e)편한세상 면적 59㎡만 존재\n",
    "# 따라서 중구의 경우 가격 변화 측정 불가"
   ]
  },
  {
   "cell_type": "code",
   "execution_count": 10,
   "metadata": {},
   "outputs": [
    {
     "name": "stdout",
     "output_type": "stream",
     "text": [
      "             아파트  금액(만원)    면적   층        주소\n",
      "41  학정역효성해링턴플레이스   35000  84.8  16  읍내동 1449\n",
      "44  학정역효성해링턴플레이스   35000  84.8  13  읍내동 1449\n",
      "             아파트  금액(만원)     면적   층        주소\n",
      "89  학정역효성해링턴플레이스   32000  84.91  15  읍내동 1449\n",
      "Empty DataFrame\n",
      "Columns: [아파트, 금액(만원), 면적, 층, 주소]\n",
      "Index: []\n",
      "             아파트  금액(만원)     면적   층        주소\n",
      "27  반월당효성해링턴플레이스   46800  84.97  24  남산동 3006\n"
     ]
    }
   ],
   "source": [
    "# 아파트 브랜드 : 효성해링턴플레이스 추출\n",
    "BUKGU2301_HS=BUKGU2301[BUKGU2301['아파트'].str.contains('효성해링턴플레이스')]\n",
    "BUKGU2312_HS=BUKGU2312[BUKGU2312['아파트'].str.contains('효성해링턴플레이스')]\n",
    "JUNGGU2301_HS=JUNGGU2301[JUNGGU2301['아파트'].str.contains('효성해링턴플레이스')]\n",
    "JUNGGU2312_HS=JUNGGU2312[JUNGGU2312['아파트'].str.contains('효성해링턴플레이스')]\n",
    "\n",
    "print(f'{BUKGU2301_HS}\\n{BUKGU2312_HS}\\n{JUNGGU2301_HS}\\n{JUNGGU2312_HS}')\n",
    "# 중구 23.01월 : 반월당효성해링턴플레이스 부존재\n",
    "# 따라서 중구의 경우 가격 변화 측정 불가"
   ]
  },
  {
   "cell_type": "code",
   "execution_count": 11,
   "metadata": {},
   "outputs": [],
   "source": [
    "# 이편한세상, 효성해링턴플레이스 데이터 추출을 위한 추가 데이터프레임 생성\n",
    "# 중구 23.02월 데이터로 대체\n",
    "JG02_EXCEL='./23_Year Apartment_Jung-gu_2month.xlsx'\n",
    "JUNGGU2302=pd.read_excel(JG02_EXCEL, header=None)\n",
    "JUNGGU2302.to_csv('JUNGGU2302.csv')\n"
   ]
  },
  {
   "cell_type": "code",
   "execution_count": 12,
   "metadata": {},
   "outputs": [],
   "source": [
    "JUNGGU2302.columns=['아파트','금액(만원)','면적','층','주소']"
   ]
  },
  {
   "cell_type": "code",
   "execution_count": 14,
   "metadata": {},
   "outputs": [
    {
     "name": "stdout",
     "output_type": "stream",
     "text": [
      "        아파트  금액(만원)     면적   층       주소\n",
      "57  칠곡이편한세상   31000  84.73  16  읍내동 491\n",
      "59  칠곡이편한세상   30000  84.73   8  읍내동 491\n",
      "60  칠곡이편한세상   30000  84.96  16  읍내동 491\n",
      "         아파트  금액(만원)     면적  층       주소\n",
      "101  칠곡이편한세상   29500  84.96  1  읍내동 491\n",
      "        아파트 금액(만원)     면적   층         주소\n",
      "8   남산e편한세상  54500  84.86  25  남산동 150-2\n",
      "9   남산e편한세상  53900  84.86  13  남산동 150-2\n",
      "10  남산e편한세상  53800  84.86  25  남산동 150-2\n",
      "12  남산e편한세상  53000  84.86  23  남산동 150-2\n",
      "54  남산e편한세상  40000  59.99  24  남산동 150-2\n",
      "57  남산e편한세상  39500  59.99  22  남산동 150-2\n",
      "65  남산e편한세상  37950  59.99   7  남산동 150-2\n",
      "66  남산e편한세상  37800  59.99  16  남산동 150-2\n",
      "72  남산e편한세상  37000  59.99   7  남산동 150-2\n",
      "73  남산e편한세상  36000  59.99   7  남산동 150-2\n",
      "82  남산e편한세상  33800  59.99   2  남산동 150-2\n",
      "        아파트  금액(만원)     면적   층         주소\n",
      "12  남산e편한세상   60000  84.86  24  남산동 150-2\n"
     ]
    }
   ],
   "source": [
    "# 아파트 브랜드 : 이편한세상 추출 (23.01 -> 23.02 대체)\n",
    "BUKGU2301_EPH=BUKGU2301[BUKGU2301['아파트'].str.contains('칠곡이편한세상')]\n",
    "BUKGU2312_EPH=BUKGU2312[BUKGU2312['아파트'].str.contains('칠곡이편한세상')]\n",
    "JUNGGU2302_EPH=JUNGGU2302[JUNGGU2302['아파트'].str.contains('남산e편한세상')]\n",
    "JUNGGU2312_EPH=JUNGGU2312[JUNGGU2312['아파트'].str.contains('남산e편한세상')]\n",
    "\n",
    "print(f'{BUKGU2301_EPH}\\n{BUKGU2312_EPH}\\n{JUNGGU2302_EPH}\\n{JUNGGU2312_EPH}')"
   ]
  },
  {
   "cell_type": "code",
   "execution_count": 16,
   "metadata": {},
   "outputs": [],
   "source": [
    "JUNGGU2302_EPH84=JUNGGU2302_EPH[JUNGGU2302_EPH['면적']>83]"
   ]
  },
  {
   "cell_type": "code",
   "execution_count": 18,
   "metadata": {},
   "outputs": [
    {
     "name": "stdout",
     "output_type": "stream",
     "text": [
      "        아파트  금액(만원)     면적   층       주소\n",
      "57  칠곡이편한세상   31000  84.73  16  읍내동 491\n",
      "59  칠곡이편한세상   30000  84.73   8  읍내동 491\n",
      "60  칠곡이편한세상   30000  84.96  16  읍내동 491\n",
      "         아파트  금액(만원)     면적  층       주소\n",
      "101  칠곡이편한세상   29500  84.96  1  읍내동 491\n",
      "        아파트 금액(만원)     면적   층         주소\n",
      "8   남산e편한세상  54500  84.86  25  남산동 150-2\n",
      "9   남산e편한세상  53900  84.86  13  남산동 150-2\n",
      "10  남산e편한세상  53800  84.86  25  남산동 150-2\n",
      "12  남산e편한세상  53000  84.86  23  남산동 150-2\n",
      "        아파트  금액(만원)     면적   층         주소\n",
      "12  남산e편한세상   60000  84.86  24  남산동 150-2\n"
     ]
    }
   ],
   "source": [
    "print(f'{BUKGU2301_EPH}\\n{BUKGU2312_EPH}\\n{JUNGGU2302_EPH84}\\n{JUNGGU2312_EPH}')"
   ]
  },
  {
   "cell_type": "code",
   "execution_count": 19,
   "metadata": {},
   "outputs": [
    {
     "name": "stdout",
     "output_type": "stream",
     "text": [
      "             아파트  금액(만원)    면적   층        주소\n",
      "41  학정역효성해링턴플레이스   35000  84.8  16  읍내동 1449\n",
      "44  학정역효성해링턴플레이스   35000  84.8  13  읍내동 1449\n",
      "             아파트  금액(만원)     면적   층        주소\n",
      "89  학정역효성해링턴플레이스   32000  84.91  15  읍내동 1449\n",
      "             아파트 금액(만원)     면적   층        주소\n",
      "46  반월당효성해링턴플레이스  41250  84.93   6  남산동 3006\n",
      "71  반월당효성해링턴플레이스  37000  84.93  17  남산동 3006\n",
      "             아파트  금액(만원)     면적   층        주소\n",
      "27  반월당효성해링턴플레이스   46800  84.97  24  남산동 3006\n"
     ]
    }
   ],
   "source": [
    "# 아파트 브랜드 : 효성해링턴플레이스 추출 (23.01 -> 23.02 대체)\n",
    "BUKGU2301_HS=BUKGU2301[BUKGU2301['아파트'].str.contains('효성해링턴플레이스')]\n",
    "BUKGU2312_HS=BUKGU2312[BUKGU2312['아파트'].str.contains('효성해링턴플레이스')]\n",
    "JUNGGU2302_HS=JUNGGU2302[JUNGGU2302['아파트'].str.contains('효성해링턴플레이스')]\n",
    "JUNGGU2312_HS=JUNGGU2312[JUNGGU2312['아파트'].str.contains('효성해링턴플레이스')]\n",
    "\n",
    "print(f'{BUKGU2301_HS}\\n{BUKGU2312_HS}\\n{JUNGGU2302_HS}\\n{JUNGGU2312_HS}')"
   ]
  },
  {
   "cell_type": "code",
   "execution_count": 20,
   "metadata": {},
   "outputs": [],
   "source": [
    "## 데이터 종합\n",
    "# 청아람 : print(f'{BUKGU2301_CAR}\\n{BUKGU2312_CAR}\\n{JUNGGU2301_CAR}\\n{JUNGGU2312_CAR}')\n",
    "# 이편한 : print(f'{BUKGU2301_EPH}\\n{BUKGU2312_EPH}\\n{JUNGGU2302_EPH84}\\n{JUNGGU2312_EPH}')\n",
    "# 해링턴 : print(f'{BUKGU2301_HS}\\n{BUKGU2312_HS}\\n{JUNGGU2302_HS}\\n{JUNGGU2312_HS}')"
   ]
  },
  {
   "cell_type": "code",
   "execution_count": 56,
   "metadata": {},
   "outputs": [
    {
     "name": "stderr",
     "output_type": "stream",
     "text": [
      "C:\\Users\\KDP-27\\AppData\\Local\\Temp\\ipykernel_7788\\913943475.py:2: SettingWithCopyWarning: \n",
      "A value is trying to be set on a copy of a slice from a DataFrame.\n",
      "Try using .loc[row_indexer,col_indexer] = value instead\n",
      "\n",
      "See the caveats in the documentation: https://pandas.pydata.org/pandas-docs/stable/user_guide/indexing.html#returning-a-view-versus-a-copy\n",
      "  JUNGGU2302_EPH84['금액(만원)'] = pd.to_numeric(JUNGGU2302_EPH84['금액(만원)'])\n",
      "C:\\Users\\KDP-27\\AppData\\Local\\Temp\\ipykernel_7788\\913943475.py:3: SettingWithCopyWarning: \n",
      "A value is trying to be set on a copy of a slice from a DataFrame.\n",
      "Try using .loc[row_indexer,col_indexer] = value instead\n",
      "\n",
      "See the caveats in the documentation: https://pandas.pydata.org/pandas-docs/stable/user_guide/indexing.html#returning-a-view-versus-a-copy\n",
      "  JUNGGU2302_HS['금액(만원)'] = pd.to_numeric(JUNGGU2302_HS['금액(만원)'])\n"
     ]
    }
   ],
   "source": [
    "# 데이터타입(Dtype) object -> int64 변환\n",
    "JUNGGU2302_EPH84['금액(만원)'] = pd.to_numeric(JUNGGU2302_EPH84['금액(만원)'])\n",
    "JUNGGU2302_HS['금액(만원)'] = pd.to_numeric(JUNGGU2302_HS['금액(만원)'])"
   ]
  },
  {
   "cell_type": "code",
   "execution_count": 55,
   "metadata": {},
   "outputs": [
    {
     "name": "stdout",
     "output_type": "stream",
     "text": [
      "<class 'pandas.core.frame.DataFrame'>\n",
      "Index: 2 entries, 46 to 71\n",
      "Data columns (total 5 columns):\n",
      " #   Column  Non-Null Count  Dtype \n",
      "---  ------  --------------  ----- \n",
      " 0   아파트     2 non-null      object\n",
      " 1   금액(만원)  2 non-null      int64 \n",
      " 2   면적      2 non-null      object\n",
      " 3   층       2 non-null      object\n",
      " 4   주소      2 non-null      object\n",
      "dtypes: int64(1), object(4)\n",
      "memory usage: 96.0+ bytes\n"
     ]
    }
   ],
   "source": [
    "JUNGGU2302_HS.info()"
   ]
  },
  {
   "cell_type": "code",
   "execution_count": 83,
   "metadata": {},
   "outputs": [],
   "source": [
    "# 데이터 측정을 위한 사전 자료\n",
    "#.describe(include='all')\n",
    "# mean : 평균값\n",
    "# max : 최대값\n",
    "# min : 최소값"
   ]
  },
  {
   "cell_type": "code",
   "execution_count": 66,
   "metadata": {},
   "outputs": [
    {
     "name": "stdout",
     "output_type": "stream",
     "text": [
      "청아람 북구 23년 01월 거래량 (count): 2.0\n",
      "청아람 북구 23년 01월 평균값 (mean): 28100.0\n",
      "청아람 북구 23년 01월 최대값 (max): 28200.0\n",
      "청아람 북구 23년 01월 최소값 (min): 28000.0\n"
     ]
    }
   ],
   "source": [
    "## 청아람 북구 23년 01월 데이터 측정\n",
    "BUKGU2301_CAR_Summary = BUKGU2301_CAR.describe(include='all')\n",
    "\n",
    "print(\"청아람 북구 23년 01월 거래량 (count):\", BUKGU2301_CAR_Summary.loc['count', '금액(만원)'])\n",
    "print(\"청아람 북구 23년 01월 평균값 (mean):\", BUKGU2301_CAR_Summary.loc['mean', '금액(만원)'])\n",
    "print(\"청아람 북구 23년 01월 최대값 (max):\", BUKGU2301_CAR_Summary.loc['max', '금액(만원)'])\n",
    "print(\"청아람 북구 23년 01월 최소값 (min):\", BUKGU2301_CAR_Summary.loc['min', '금액(만원)'])"
   ]
  },
  {
   "cell_type": "code",
   "execution_count": 67,
   "metadata": {},
   "outputs": [
    {
     "name": "stdout",
     "output_type": "stream",
     "text": [
      "청아람 북구 23년 12월 거래량 (count): 4.0\n",
      "청아람 북구 23년 12월 평균값 (mean): 26762.5\n",
      "청아람 북구 23년 12월 최대값 (max): 29200.0\n",
      "청아람 북구 23년 12월 최소값 (min): 24100.0\n"
     ]
    }
   ],
   "source": [
    "## 청아람 북구 23년 12월 데이터 측정\n",
    "BUKGU2312_CAR_Summary = BUKGU2312_CAR.describe(include='all')\n",
    "\n",
    "print(\"청아람 북구 23년 12월 거래량 (count):\", BUKGU2312_CAR_Summary.loc['count', '금액(만원)'])\n",
    "print(\"청아람 북구 23년 12월 평균값 (mean):\", BUKGU2312_CAR_Summary.loc['mean', '금액(만원)'])\n",
    "print(\"청아람 북구 23년 12월 최대값 (max):\", BUKGU2312_CAR_Summary.loc['max', '금액(만원)'])\n",
    "print(\"청아람 북구 23년 12월 최소값 (min):\", BUKGU2312_CAR_Summary.loc['min', '금액(만원)'])"
   ]
  },
  {
   "cell_type": "code",
   "execution_count": 68,
   "metadata": {},
   "outputs": [
    {
     "name": "stdout",
     "output_type": "stream",
     "text": [
      "청아람 중구 23년 01월 거래량 (count): 3.0\n",
      "청아람 중구 23년 01월 평균값 (mean): 45400.0\n",
      "청아람 중구 23년 01월 최대값 (max): 48000.0\n",
      "청아람 중구 23년 01월 최소값 (min): 43900.0\n"
     ]
    }
   ],
   "source": [
    "## 청아람 중구 23년 01월 데이터 측정\n",
    "JUNGGU2301_CAR_Summary = JUNGGU2301_CAR.describe(include='all')\n",
    "\n",
    "print(\"청아람 중구 23년 01월 거래량 (count):\", JUNGGU2301_CAR_Summary.loc['count', '금액(만원)'])\n",
    "print(\"청아람 중구 23년 01월 평균값 (mean):\", JUNGGU2301_CAR_Summary.loc['mean', '금액(만원)'])\n",
    "print(\"청아람 중구 23년 01월 최대값 (max):\", JUNGGU2301_CAR_Summary.loc['max', '금액(만원)'])\n",
    "print(\"청아람 중구 23년 01월 최소값 (min):\", JUNGGU2301_CAR_Summary.loc['min', '금액(만원)'])"
   ]
  },
  {
   "cell_type": "code",
   "execution_count": 71,
   "metadata": {},
   "outputs": [
    {
     "name": "stdout",
     "output_type": "stream",
     "text": [
      "청아람 중구 23년 12월 거래량 (count): 1.0\n",
      "청아람 중구 23년 12월 평균값 (mean): 51000.0\n",
      "청아람 중구 23년 12월 최대값 (max): 51000.0\n",
      "청아람 중구 23년 12월 최소값 (min): 51000.0\n"
     ]
    }
   ],
   "source": [
    "## 청아람 중구 23년 12월 데이터 측정\n",
    "JUNGGU2312_CAR_Summary = JUNGGU2312_CAR.describe(include='all')\n",
    "\n",
    "print(\"청아람 중구 23년 12월 거래량 (count):\", JUNGGU2312_CAR_Summary.loc['count', '금액(만원)'])\n",
    "print(\"청아람 중구 23년 12월 평균값 (mean):\", JUNGGU2312_CAR_Summary.loc['mean', '금액(만원)'])\n",
    "print(\"청아람 중구 23년 12월 최대값 (max):\", JUNGGU2312_CAR_Summary.loc['max', '금액(만원)'])\n",
    "print(\"청아람 중구 23년 12월 최소값 (min):\", JUNGGU2312_CAR_Summary.loc['min', '금액(만원)'])"
   ]
  },
  {
   "cell_type": "code",
   "execution_count": 73,
   "metadata": {},
   "outputs": [
    {
     "name": "stdout",
     "output_type": "stream",
     "text": [
      "이편한 북구 23년 01월 거래량 (count): 3.0\n",
      "이편한 북구 23년 01월 평균값 (mean): 30333.333333333332\n",
      "이편한 북구 23년 01월 최대값 (max): 31000.0\n",
      "이편한 북구 23년 01월 최소값 (min): 30000.0\n"
     ]
    }
   ],
   "source": [
    "## 이편한 북구 23년 01월 데이터 측정\n",
    "BUKGU2301_EPH_Summary = BUKGU2301_EPH.describe(include='all')\n",
    "\n",
    "print(\"이편한 북구 23년 01월 거래량 (count):\", BUKGU2301_EPH_Summary.loc['count', '금액(만원)'])\n",
    "print(\"이편한 북구 23년 01월 평균값 (mean):\", BUKGU2301_EPH_Summary.loc['mean', '금액(만원)'])\n",
    "print(\"이편한 북구 23년 01월 최대값 (max):\", BUKGU2301_EPH_Summary.loc['max', '금액(만원)'])\n",
    "print(\"이편한 북구 23년 01월 최소값 (min):\", BUKGU2301_EPH_Summary.loc['min', '금액(만원)'])"
   ]
  },
  {
   "cell_type": "code",
   "execution_count": 74,
   "metadata": {},
   "outputs": [
    {
     "name": "stdout",
     "output_type": "stream",
     "text": [
      "이편한 북구 23년 12월 거래량 (count): 1.0\n",
      "이편한 북구 23년 12월 평균값 (mean): 29500.0\n",
      "이편한 북구 23년 12월 최대값 (max): 29500.0\n",
      "이편한 북구 23년 12월 최소값 (min): 29500.0\n"
     ]
    }
   ],
   "source": [
    "## 이편한 북구 23년 12월 데이터 측정\n",
    "BUKGU2312_EPH_Summary = BUKGU2312_EPH.describe(include='all')\n",
    "\n",
    "print(\"이편한 북구 23년 12월 거래량 (count):\", BUKGU2312_EPH_Summary.loc['count', '금액(만원)'])\n",
    "print(\"이편한 북구 23년 12월 평균값 (mean):\", BUKGU2312_EPH_Summary.loc['mean', '금액(만원)'])\n",
    "print(\"이편한 북구 23년 12월 최대값 (max):\", BUKGU2312_EPH_Summary.loc['max', '금액(만원)'])\n",
    "print(\"이편한 북구 23년 12월 최소값 (min):\", BUKGU2312_EPH_Summary.loc['min', '금액(만원)'])"
   ]
  },
  {
   "cell_type": "code",
   "execution_count": 76,
   "metadata": {},
   "outputs": [
    {
     "name": "stdout",
     "output_type": "stream",
     "text": [
      "이편한 중구 23년 02월 거래량 (count): 4.0\n",
      "이편한 중구 23년 02월 평균값 (mean): 53800.0\n",
      "이편한 중구 23년 02월 최대값 (max): 54500.0\n",
      "이편한 중구 23년 02월 최소값 (min): 53000.0\n"
     ]
    }
   ],
   "source": [
    "## 이편한 중구 23년 02월 데이터 측정 \n",
    "JUNGGU2302_EPH84_Summary = JUNGGU2302_EPH84.describe(include='all')\n",
    "\n",
    "print(\"이편한 중구 23년 02월 거래량 (count):\", JUNGGU2302_EPH84_Summary.loc['count', '금액(만원)'])\n",
    "print(\"이편한 중구 23년 02월 평균값 (mean):\", JUNGGU2302_EPH84_Summary.loc['mean', '금액(만원)'])\n",
    "print(\"이편한 중구 23년 02월 최대값 (max):\", JUNGGU2302_EPH84_Summary.loc['max', '금액(만원)'])\n",
    "print(\"이편한 중구 23년 02월 최소값 (min):\", JUNGGU2302_EPH84_Summary.loc['min', '금액(만원)'])"
   ]
  },
  {
   "cell_type": "code",
   "execution_count": 77,
   "metadata": {},
   "outputs": [
    {
     "name": "stdout",
     "output_type": "stream",
     "text": [
      "이편한 중구 23년 12월 거래량 (count): 1.0\n",
      "이편한 중구 23년 12월 평균값 (mean): 60000.0\n",
      "이편한 중구 23년 12월 최대값 (max): 60000.0\n",
      "이편한 중구 23년 12월 최소값 (min): 60000.0\n"
     ]
    }
   ],
   "source": [
    "## 이편한 중구 23년 12월 데이터 측정 \n",
    "JUNGGU2312_EPH_Summary = JUNGGU2312_EPH.describe(include='all')\n",
    "\n",
    "print(\"이편한 중구 23년 12월 거래량 (count):\", JUNGGU2312_EPH_Summary.loc['count', '금액(만원)'])\n",
    "print(\"이편한 중구 23년 12월 평균값 (mean):\", JUNGGU2312_EPH_Summary.loc['mean', '금액(만원)'])\n",
    "print(\"이편한 중구 23년 12월 최대값 (max):\", JUNGGU2312_EPH_Summary.loc['max', '금액(만원)'])\n",
    "print(\"이편한 중구 23년 12월 최소값 (min):\", JUNGGU2312_EPH_Summary.loc['min', '금액(만원)'])"
   ]
  },
  {
   "cell_type": "code",
   "execution_count": 79,
   "metadata": {},
   "outputs": [
    {
     "name": "stdout",
     "output_type": "stream",
     "text": [
      "해링턴 북구 23년 01월 거래량 (count): 2.0\n",
      "해링턴 북구 23년 01월 평균값 (mean): 35000.0\n",
      "해링턴 북구 23년 01월 최대값 (max): 35000.0\n",
      "해링턴 북구 23년 01월 최소값 (min): 35000.0\n"
     ]
    }
   ],
   "source": [
    "## 해링턴 북구 23년 01월 데이터 측정\n",
    "BUKGU2301_HS_Summary = BUKGU2301_HS.describe(include='all')\n",
    "\n",
    "print(\"해링턴 북구 23년 01월 거래량 (count):\", BUKGU2301_HS_Summary.loc['count', '금액(만원)'])\n",
    "print(\"해링턴 북구 23년 01월 평균값 (mean):\", BUKGU2301_HS_Summary.loc['mean', '금액(만원)'])\n",
    "print(\"해링턴 북구 23년 01월 최대값 (max):\", BUKGU2301_HS_Summary.loc['max', '금액(만원)'])\n",
    "print(\"해링턴 북구 23년 01월 최소값 (min):\", BUKGU2301_HS_Summary.loc['min', '금액(만원)'])"
   ]
  },
  {
   "cell_type": "code",
   "execution_count": 80,
   "metadata": {},
   "outputs": [
    {
     "name": "stdout",
     "output_type": "stream",
     "text": [
      "해링턴 북구 23년 12월 거래량 (count): 1.0\n",
      "해링턴 북구 23년 12월 평균값 (mean): 32000.0\n",
      "해링턴 북구 23년 12월 최대값 (max): 32000.0\n",
      "해링턴 북구 23년 12월 최소값 (min): 32000.0\n"
     ]
    }
   ],
   "source": [
    "## 해링턴 북구 23년 12월 데이터 측정\n",
    "BUKGU2312_HS_Summary = BUKGU2312_HS.describe(include='all')\n",
    "\n",
    "print(\"해링턴 북구 23년 12월 거래량 (count):\", BUKGU2312_HS_Summary.loc['count', '금액(만원)'])\n",
    "print(\"해링턴 북구 23년 12월 평균값 (mean):\", BUKGU2312_HS_Summary.loc['mean', '금액(만원)'])\n",
    "print(\"해링턴 북구 23년 12월 최대값 (max):\", BUKGU2312_HS_Summary.loc['max', '금액(만원)'])\n",
    "print(\"해링턴 북구 23년 12월 최소값 (min):\", BUKGU2312_HS_Summary.loc['min', '금액(만원)'])"
   ]
  },
  {
   "cell_type": "code",
   "execution_count": 81,
   "metadata": {},
   "outputs": [
    {
     "name": "stdout",
     "output_type": "stream",
     "text": [
      "해링턴 중구 23년 02월 거래량 (count): 2.0\n",
      "해링턴 중구 23년 02월 평균값 (mean): 39125.0\n",
      "해링턴 중구 23년 02월 최대값 (max): 41250.0\n",
      "해링턴 중구 23년 02월 최소값 (min): 37000.0\n"
     ]
    }
   ],
   "source": [
    "## 해링턴 중구 23년 02월 데이터 측정\n",
    "JUNGGU2302_HS_Summary = JUNGGU2302_HS.describe(include='all')\n",
    "\n",
    "print(\"해링턴 중구 23년 02월 거래량 (count):\", JUNGGU2302_HS_Summary.loc['count', '금액(만원)'])\n",
    "print(\"해링턴 중구 23년 02월 평균값 (mean):\", JUNGGU2302_HS_Summary.loc['mean', '금액(만원)'])\n",
    "print(\"해링턴 중구 23년 02월 최대값 (max):\", JUNGGU2302_HS_Summary.loc['max', '금액(만원)'])\n",
    "print(\"해링턴 중구 23년 02월 최소값 (min):\", JUNGGU2302_HS_Summary.loc['min', '금액(만원)'])"
   ]
  },
  {
   "cell_type": "code",
   "execution_count": 82,
   "metadata": {},
   "outputs": [
    {
     "name": "stdout",
     "output_type": "stream",
     "text": [
      "해링턴 중구 23년 12월 거래량 (count): 1.0\n",
      "해링턴 중구 23년 12월 평균값 (mean): 46800.0\n",
      "해링턴 중구 23년 12월 최대값 (max): 46800.0\n",
      "해링턴 중구 23년 12월 최소값 (min): 46800.0\n"
     ]
    }
   ],
   "source": [
    "## 해링턴 중구 23년 12월 데이터 측정\n",
    "JUNGGU2312_HS_Summary = JUNGGU2312_HS.describe(include='all')\n",
    "\n",
    "print(\"해링턴 중구 23년 12월 거래량 (count):\", JUNGGU2312_HS_Summary.loc['count', '금액(만원)'])\n",
    "print(\"해링턴 중구 23년 12월 평균값 (mean):\", JUNGGU2312_HS_Summary.loc['mean', '금액(만원)'])\n",
    "print(\"해링턴 중구 23년 12월 최대값 (max):\", JUNGGU2312_HS_Summary.loc['max', '금액(만원)'])\n",
    "print(\"해링턴 중구 23년 12월 최소값 (min):\", JUNGGU2312_HS_Summary.loc['min', '금액(만원)'])"
   ]
  },
  {
   "cell_type": "code",
   "execution_count": 84,
   "metadata": {},
   "outputs": [],
   "source": [
    "import matplotlib.pyplot as plt"
   ]
  },
  {
   "cell_type": "code",
   "execution_count": 95,
   "metadata": {},
   "outputs": [
    {
     "name": "stdout",
     "output_type": "stream",
     "text": [
      "      아파트  금액(만원)     면적   층       주소\n",
      "72  학정청아람   28200  84.66   7  학정동 925\n",
      "73  학정청아람   28000  84.66  22  학정동 925\n",
      "       아파트  금액(만원)     면적   층       주소\n",
      "102  학정청아람   29200  84.62  25  학정동 925\n",
      "113  학정청아람   27150  84.66  25  학정동 925\n",
      "120  학정청아람   26600  84.66  14  학정동 925\n",
      "130  학정청아람   24100  84.66   1  학정동 925\n",
      "      아파트  금액(만원)     면적   층         주소\n",
      "6   삼덕청아람   48000  84.57  34  삼덕동3가 383\n",
      "15  삼덕청아람   44300  84.57  14  삼덕동3가 383\n",
      "18  삼덕청아람   43900  84.61  24  삼덕동3가 383\n",
      "      아파트  금액(만원)     면적   층         주소\n",
      "17  삼덕청아람   51000  84.61  21  삼덕동3가 383\n",
      "        아파트  금액(만원)     면적   층       주소\n",
      "57  칠곡이편한세상   31000  84.73  16  읍내동 491\n",
      "59  칠곡이편한세상   30000  84.73   8  읍내동 491\n",
      "60  칠곡이편한세상   30000  84.96  16  읍내동 491\n",
      "         아파트  금액(만원)     면적  층       주소\n",
      "101  칠곡이편한세상   29500  84.96  1  읍내동 491\n",
      "        아파트  금액(만원)     면적   층         주소\n",
      "8   남산e편한세상   54500  84.86  25  남산동 150-2\n",
      "9   남산e편한세상   53900  84.86  13  남산동 150-2\n",
      "10  남산e편한세상   53800  84.86  25  남산동 150-2\n",
      "12  남산e편한세상   53000  84.86  23  남산동 150-2\n",
      "        아파트  금액(만원)     면적   층         주소\n",
      "12  남산e편한세상   60000  84.86  24  남산동 150-2\n",
      "             아파트  금액(만원)    면적   층        주소\n",
      "41  학정역효성해링턴플레이스   35000  84.8  16  읍내동 1449\n",
      "44  학정역효성해링턴플레이스   35000  84.8  13  읍내동 1449\n",
      "             아파트  금액(만원)     면적   층        주소\n",
      "89  학정역효성해링턴플레이스   32000  84.91  15  읍내동 1449\n",
      "             아파트  금액(만원)     면적   층        주소\n",
      "46  반월당효성해링턴플레이스   41250  84.93   6  남산동 3006\n",
      "71  반월당효성해링턴플레이스   37000  84.93  17  남산동 3006\n",
      "             아파트  금액(만원)     면적   층        주소\n",
      "27  반월당효성해링턴플레이스   46800  84.97  24  남산동 3006\n"
     ]
    }
   ],
   "source": [
    "## 데이터 종합\n",
    "print(f'{BUKGU2301_CAR}\\n{BUKGU2312_CAR}\\n{JUNGGU2301_CAR}\\n{JUNGGU2312_CAR}')\n",
    "print(f'{BUKGU2301_EPH}\\n{BUKGU2312_EPH}\\n{JUNGGU2302_EPH84}\\n{JUNGGU2312_EPH}')\n",
    "print(f'{BUKGU2301_HS}\\n{BUKGU2312_HS}\\n{JUNGGU2302_HS}\\n{JUNGGU2312_HS}')"
   ]
  },
  {
   "cell_type": "code",
   "execution_count": 97,
   "metadata": {},
   "outputs": [
    {
     "name": "stdout",
     "output_type": "stream",
     "text": [
      "\n",
      "청아람 북구 평균값 변동 추이:\n",
      "23년 01월 평균값: 28100.00 만원\n",
      "23년 12월 평균값: 26762.50 만원\n",
      "변동 금액: -1337.50 만원\n",
      "변동 비율: -4.76 %\n"
     ]
    }
   ],
   "source": [
    "# 청아람 북구 평균값 변동 추이\n",
    "BUKGU2301_CAR_MEAN = BUKGU2301_CAR_Summary.loc['mean', '금액(만원)']\n",
    "BUKGU2312_CAR_MEAN = BUKGU2312_CAR_Summary.loc['mean', '금액(만원)']\n",
    "change_amount = BUKGU2312_CAR_MEAN - BUKGU2301_CAR_MEAN\n",
    "change_rate = (change_amount / BUKGU2301_CAR_MEAN) * 100\n",
    "print(f\"\\n청아람 북구 평균값 변동 추이:\")\n",
    "print(f\"23년 01월 평균값: {BUKGU2301_CAR_MEAN:.2f} 만원\")\n",
    "print(f\"23년 12월 평균값: {BUKGU2312_CAR_MEAN:.2f} 만원\")\n",
    "print(f\"변동 금액: {change_amount:.2f} 만원\")\n",
    "print(f\"변동 비율: {change_rate:.2f} %\")"
   ]
  },
  {
   "cell_type": "code",
   "execution_count": 99,
   "metadata": {},
   "outputs": [
    {
     "name": "stdout",
     "output_type": "stream",
     "text": [
      "\n",
      "청아람 중구 평균값 변동 추이:\n",
      "23년 01월 평균값: 45400.00 만원\n",
      "23년 12월 평균값: 51000.00 만원\n",
      "변동 금액: 5600.00 만원\n",
      "변동 비율: 12.33 %\n"
     ]
    }
   ],
   "source": [
    "# 청아람 중구 평균값 변동 추이\n",
    "JUNGGU2301_CAR_MEAN = JUNGGU2301_CAR_Summary.loc['mean', '금액(만원)']\n",
    "JUNGGU2312_CAR_MEAN = JUNGGU2312_CAR_Summary.loc['mean', '금액(만원)']\n",
    "change_amount = JUNGGU2312_CAR_MEAN - JUNGGU2301_CAR_MEAN\n",
    "change_rate = (change_amount / JUNGGU2301_CAR_MEAN) * 100\n",
    "print(f\"\\n청아람 중구 평균값 변동 추이:\")\n",
    "print(f\"23년 01월 평균값: {JUNGGU2301_CAR_MEAN:.2f} 만원\")\n",
    "print(f\"23년 12월 평균값: {JUNGGU2312_CAR_MEAN:.2f} 만원\")\n",
    "print(f\"변동 금액: {change_amount:.2f} 만원\")\n",
    "print(f\"변동 비율: {change_rate:.2f} %\")"
   ]
  },
  {
   "cell_type": "code",
   "execution_count": 98,
   "metadata": {},
   "outputs": [
    {
     "name": "stdout",
     "output_type": "stream",
     "text": [
      "\n",
      "이편한 북구 평균값 변동 추이:\n",
      "23년 01월 평균값: 30333.33 만원\n",
      "23년 12월 평균값: 29500.00 만원\n",
      "변동 금액: -833.33 만원\n",
      "변동 비율: -2.75 %\n"
     ]
    }
   ],
   "source": [
    "# 이편한 북구 평균값 변동 추이\n",
    "BUKGU2301_EPH_MEAN = BUKGU2301_EPH_Summary.loc['mean', '금액(만원)']\n",
    "BUKGU2312_EPH_MEAN = BUKGU2312_EPH_Summary.loc['mean', '금액(만원)']\n",
    "change_amount = BUKGU2312_EPH_MEAN - BUKGU2301_EPH_MEAN\n",
    "change_rate = (change_amount / BUKGU2301_EPH_MEAN) * 100\n",
    "print(f\"\\n이편한 북구 평균값 변동 추이:\")\n",
    "print(f\"23년 01월 평균값: {BUKGU2301_EPH_MEAN:.2f} 만원\")\n",
    "print(f\"23년 12월 평균값: {BUKGU2312_EPH_MEAN:.2f} 만원\")\n",
    "print(f\"변동 금액: {change_amount:.2f} 만원\")\n",
    "print(f\"변동 비율: {change_rate:.2f} %\")"
   ]
  },
  {
   "cell_type": "code",
   "execution_count": 100,
   "metadata": {},
   "outputs": [
    {
     "name": "stdout",
     "output_type": "stream",
     "text": [
      "\n",
      "이편한 중구 평균값 변동 추이:\n",
      "23년 02월 평균값: 53800.00 만원\n",
      "23년 12월 평균값: 60000.00 만원\n",
      "변동 금액: 6200.00 만원\n",
      "변동 비율: 11.52 %\n"
     ]
    }
   ],
   "source": [
    "# 이편한 중구 평균값 변동 추이\n",
    "JUNGGU2302_EPH_MEAN = JUNGGU2302_EPH84_Summary.loc['mean', '금액(만원)']\n",
    "JUNGGU2312_EPH_MEAN = JUNGGU2312_EPH_Summary.loc['mean', '금액(만원)']\n",
    "change_amount = JUNGGU2312_EPH_MEAN - JUNGGU2302_EPH_MEAN\n",
    "change_rate = (change_amount / JUNGGU2302_EPH_MEAN) * 100\n",
    "print(f\"\\n이편한 중구 평균값 변동 추이:\")\n",
    "print(f\"23년 02월 평균값: {JUNGGU2302_EPH_MEAN:.2f} 만원\")\n",
    "print(f\"23년 12월 평균값: {JUNGGU2312_EPH_MEAN:.2f} 만원\")\n",
    "print(f\"변동 금액: {change_amount:.2f} 만원\")\n",
    "print(f\"변동 비율: {change_rate:.2f} %\")"
   ]
  },
  {
   "cell_type": "code",
   "execution_count": 101,
   "metadata": {},
   "outputs": [
    {
     "name": "stdout",
     "output_type": "stream",
     "text": [
      "\n",
      "해링턴 북구 평균값 변동 추이:\n",
      "23년 01월 평균값: 35000.00 만원\n",
      "23년 12월 평균값: 32000.00 만원\n",
      "변동 금액: -3000.00 만원\n",
      "변동 비율: -8.57 %\n"
     ]
    }
   ],
   "source": [
    "# 해링턴 북구 평균값 변동 추이\n",
    "BUKGU2301_HS_MEAN = BUKGU2301_HS_Summary.loc['mean', '금액(만원)']\n",
    "BUKGU2312_HS_MEAN = BUKGU2312_HS_Summary.loc['mean', '금액(만원)']\n",
    "change_amount = BUKGU2312_HS_MEAN - BUKGU2301_HS_MEAN\n",
    "change_rate = (change_amount / BUKGU2301_HS_MEAN) * 100\n",
    "print(f\"\\n해링턴 북구 평균값 변동 추이:\")\n",
    "print(f\"23년 01월 평균값: {BUKGU2301_HS_MEAN:.2f} 만원\")\n",
    "print(f\"23년 12월 평균값: {BUKGU2312_HS_MEAN:.2f} 만원\")\n",
    "print(f\"변동 금액: {change_amount:.2f} 만원\")\n",
    "print(f\"변동 비율: {change_rate:.2f} %\")"
   ]
  },
  {
   "cell_type": "code",
   "execution_count": 102,
   "metadata": {},
   "outputs": [
    {
     "name": "stdout",
     "output_type": "stream",
     "text": [
      "\n",
      "해링턴 중구 평균값 변동 추이:\n",
      "23년 02월 평균값: 39125.00 만원\n",
      "23년 12월 평균값: 46800.00 만원\n",
      "변동 금액: 7675.00 만원\n",
      "변동 비율: 19.62 %\n"
     ]
    }
   ],
   "source": [
    "# 해링턴 중구 평균값 변동 추이\n",
    "JUNGGU2302_HS_MEAN = JUNGGU2302_HS_Summary.loc['mean', '금액(만원)']\n",
    "JUNGGU2312_HS_MEAN = JUNGGU2312_HS_Summary.loc['mean', '금액(만원)']\n",
    "change_amount = JUNGGU2312_HS_MEAN - JUNGGU2302_HS_MEAN\n",
    "change_rate = (change_amount / JUNGGU2302_HS_MEAN) * 100\n",
    "print(f\"\\n해링턴 중구 평균값 변동 추이:\")\n",
    "print(f\"23년 02월 평균값: {JUNGGU2302_HS_MEAN:.2f} 만원\")\n",
    "print(f\"23년 12월 평균값: {JUNGGU2312_HS_MEAN:.2f} 만원\")\n",
    "print(f\"변동 금액: {change_amount:.2f} 만원\")\n",
    "print(f\"변동 비율: {change_rate:.2f} %\")"
   ]
  },
  {
   "cell_type": "code",
   "execution_count": 103,
   "metadata": {},
   "outputs": [],
   "source": [
    "## 시각화\n",
    "## 아파트 브랜드별 중구와 북구 비교\n",
    "import matplotlib.pyplot as plt"
   ]
  },
  {
   "cell_type": "code",
   "execution_count": 109,
   "metadata": {},
   "outputs": [],
   "source": [
    "# 브랜드별 평균값\n",
    "brands = ['청아람', '이편한세상', '효성해링턴']\n",
    "brand_data = {\n",
    "    '청아람': {\n",
    "        '북구': [BUKGU2301_CAR_MEAN, BUKGU2312_CAR_MEAN],\n",
    "        '중구': [JUNGGU2301_CAR_MEAN, JUNGGU2312_CAR_MEAN]\n",
    "    },\n",
    "    '이편한세상': {\n",
    "        '북구': [BUKGU2301_EPH_MEAN, BUKGU2312_EPH_MEAN],\n",
    "        '중구': [JUNGGU2302_EPH_MEAN, JUNGGU2312_EPH_MEAN]\n",
    "    },\n",
    "    '효성해링턴': {\n",
    "        '북구': [BUKGU2301_HS_MEAN, BUKGU2312_HS_MEAN],\n",
    "        '중구': [JUNGGU2302_HS_MEAN, JUNGGU2312_HS_MEAN]\n",
    "    }\n",
    "}"
   ]
  },
  {
   "cell_type": "code",
   "execution_count": 122,
   "metadata": {},
   "outputs": [
    {
     "data": {
      "text/plain": [
       "<Figure size 2000x1000 with 0 Axes>"
      ]
     },
     "execution_count": 122,
     "metadata": {},
     "output_type": "execute_result"
    },
    {
     "data": {
      "text/plain": [
       "<Figure size 2000x1000 with 0 Axes>"
      ]
     },
     "metadata": {},
     "output_type": "display_data"
    }
   ],
   "source": [
    "plt.figure(figsize=(20, 10))"
   ]
  },
  {
   "cell_type": "code",
   "execution_count": 145,
   "metadata": {},
   "outputs": [
    {
     "name": "stdout",
     "output_type": "stream",
     "text": [
      "          점선 : 중구        실선 : 북구\n"
     ]
    },
    {
     "data": {
      "image/png": "[encoded data removed]",
      "text/plain": [
       "<Figure size 640x480 with 1 Axes>"
      ]
     },
     "metadata": {},
     "output_type": "display_data"
    }
   ],
   "source": [
    "for brand in brands:\n",
    "    months = ['2023-01', '2023-12']  # x축값 \n",
    "    # 북구와 중구의 평균값\n",
    "    north_values = brand_data[brand]['북구'] \n",
    "    central_values = brand_data[brand]['중구']  \n",
    "\n",
    "    # 그래프 \n",
    "    plt.plot(months, north_values, marker='o', label=f'{brand} 북구', linestyle='-')\n",
    "    plt.plot(months, central_values, marker='o', label=f'{brand} 중구', linestyle='-.')\n",
    "\n",
    "print('          점선 : 중구        실선 : 북구')"
   ]
  },
  {
   "cell_type": "code",
   "execution_count": 146,
   "metadata": {},
   "outputs": [
    {
     "name": "stdout",
     "output_type": "stream",
     "text": [
      "          아파트        금액(만원)         면적     층         주소\n",
      "count       3      3.000000   3.000000   3.0          3\n",
      "unique      1           NaN        NaN   NaN          1\n",
      "top     삼덕청아람           NaN        NaN   NaN  삼덕동3가 383\n",
      "freq        3           NaN        NaN   NaN          3\n",
      "mean      NaN  45400.000000  84.583333  24.0        NaN\n",
      "std       NaN   2260.530911   0.023094  10.0        NaN\n",
      "min       NaN  43900.000000  84.570000  14.0        NaN\n",
      "25%       NaN  44100.000000  84.570000  19.0        NaN\n",
      "50%       NaN  44300.000000  84.570000  24.0        NaN\n",
      "75%       NaN  46150.000000  84.590000  29.0        NaN\n",
      "max       NaN  48000.000000  84.610000  34.0        NaN\n"
     ]
    }
   ],
   "source": []
  },
  {
   "cell_type": "code",
   "execution_count": 3,
   "metadata": {},
   "outputs": [],
   "source": [
    "Incheon_Traffic='./Incheon_Traffic_2023.csv'\n",
    "IC_T_CSV=pd.read_csv(Incheon_Traffic, encoding='euc-kr')\n",
    "IC_Traffic_DF=pd.DataFrame(IC_T_CSV)"
   ]
  },
  {
   "cell_type": "code",
   "execution_count": 4,
   "metadata": {},
   "outputs": [],
   "source": [
    "grouped = IC_Traffic_DF.groupby('정류소명', as_index=False)['일평균승하차건수'].sum()"
   ]
  },
  {
   "cell_type": "code",
   "execution_count": 5,
   "metadata": {},
   "outputs": [],
   "source": [
    "max_station = grouped.loc[grouped['일평균승하차건수'].idxmax()]\n",
    "min_station = grouped.loc[grouped['일평균승하차건수'].idxmin()]"
   ]
  },
  {
   "cell_type": "code",
   "execution_count": 6,
   "metadata": {},
   "outputs": [
    {
     "name": "stdout",
     "output_type": "stream",
     "text": [
      "일평균 승하차 건수가 가장 많은 정류소:\n",
      "정류소명        롯데백화점(인천터미널)\n",
      "일평균승하차건수           19549\n",
      "Name: 1130, dtype: object\n",
      "\n",
      "일평균 승하차 건수가 가장 적은 정류소:\n",
      "정류소명        BMX경기장\n",
      "일평균승하차건수         0\n",
      "Name: 23, dtype: object\n"
     ]
    }
   ],
   "source": [
    "print(\"일평균 승하차 건수가 가장 많은 정류소:\")\n",
    "print(max_station)\n",
    "\n",
    "print(\"\\n일평균 승하차 건수가 가장 적은 정류소:\")\n",
    "print(min_station)"
   ]
  },
  {
   "cell_type": "code",
   "execution_count": 9,
   "metadata": {},
   "outputs": [
    {
     "data": {
      "text/plain": [
       "정류소명        object\n",
       "일평균승하차건수     int64\n",
       "dtype: object"
      ]
     },
     "execution_count": 9,
     "metadata": {},
     "output_type": "execute_result"
    }
   ],
   "source": [
    "grouped.dtypes  "
   ]
  },
  {
   "cell_type": "code",
   "execution_count": null,
   "metadata": {},
   "outputs": [],
   "source": []
  }
 ],
 "metadata": {
  "kernelspec": {
   "display_name": "DR97",
   "language": "python",
   "name": "python3"
  },
  "language_info": {
   "codemirror_mode": {
    "name": "ipython",
    "version": 3
   },
   "file_extension": ".py",
   "mimetype": "text/x-python",
   "name": "python",
   "nbconvert_exporter": "python",
   "pygments_lexer": "ipython3",
   "version": "3.9.21"
  }
 },
 "nbformat": 4,
 "nbformat_minor": 2
}
